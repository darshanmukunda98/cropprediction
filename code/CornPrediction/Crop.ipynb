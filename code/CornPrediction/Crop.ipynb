{
 "cells": [
  {
   "cell_type": "code",
   "execution_count": 7,
   "metadata": {
    "ExecuteTime": {
     "end_time": "2020-01-29T14:50:48.064517Z",
     "start_time": "2020-01-29T14:50:44.224589Z"
    }
   },
   "outputs": [],
   "source": [
    "import os\n",
    "import warnings  # to filter warnings which is quite annoying to look at.\n",
    "# To perform various mathematical operations and tools to operate on nd arrays\n",
    "import numpy as np\n",
    "import pandas as pd  # To import and analyze data\n",
    "import matplotlib.pyplot as plt  # for visualisation\n",
    "import seaborn as sns  # for visualisation\n",
    "import pickle  # To save data or python objects from primary memory to disk and store it in a binary format vice versa\n",
    "# Natural language processing toolkit used for vectorisation and preprocesssing data.\n",
    "import nltk\n",
    "%matplotlib inline\n",
    "# Output of plotting commands to be displayed inline in the jupyter notebook.\n",
    "warnings.filterwarnings('ignore')\n"
   ]
  },
  {
   "cell_type": "code",
   "execution_count": 15,
   "metadata": {
    "ExecuteTime": {
     "end_time": "2020-01-29T14:57:11.427906Z",
     "start_time": "2020-01-29T14:57:11.419927Z"
    }
   },
   "outputs": [],
   "source": [
    "dataset = pd.read_csv(\"cropsss.csv\")\n",
    "dataset = dataset[1:]"
   ]
  },
  {
   "cell_type": "code",
   "execution_count": 16,
   "metadata": {
    "ExecuteTime": {
     "end_time": "2020-01-29T19:04:56.097427Z",
     "start_time": "2020-01-29T19:04:56.071652Z"
    }
   },
   "outputs": [
    {
     "data": {
      "text/html": [
       "<div>\n",
       "<style scoped>\n",
       "    .dataframe tbody tr th:only-of-type {\n",
       "        vertical-align: middle;\n",
       "    }\n",
       "\n",
       "    .dataframe tbody tr th {\n",
       "        vertical-align: top;\n",
       "    }\n",
       "\n",
       "    .dataframe thead th {\n",
       "        text-align: right;\n",
       "    }\n",
       "</style>\n",
       "<table border=\"1\" class=\"dataframe\">\n",
       "  <thead>\n",
       "    <tr style=\"text-align: right;\">\n",
       "      <th></th>\n",
       "      <th>N</th>\n",
       "      <th>P</th>\n",
       "      <th>K</th>\n",
       "      <th>Zn</th>\n",
       "      <th>Fe</th>\n",
       "      <th>Cu</th>\n",
       "      <th>Mn</th>\n",
       "      <th>Bo</th>\n",
       "      <th>pH</th>\n",
       "      <th>Ec</th>\n",
       "      <th>Oc</th>\n",
       "      <th>Crop</th>\n",
       "    </tr>\n",
       "  </thead>\n",
       "  <tbody>\n",
       "    <tr>\n",
       "      <th>1</th>\n",
       "      <td>2.0</td>\n",
       "      <td>0.32</td>\n",
       "      <td>1.10</td>\n",
       "      <td>25.0</td>\n",
       "      <td>100</td>\n",
       "      <td>10.0</td>\n",
       "      <td>50</td>\n",
       "      <td>20.0</td>\n",
       "      <td>6.40</td>\n",
       "      <td>6.2</td>\n",
       "      <td>25</td>\n",
       "      <td>1</td>\n",
       "    </tr>\n",
       "    <tr>\n",
       "      <th>2</th>\n",
       "      <td>2.0</td>\n",
       "      <td>0.30</td>\n",
       "      <td>1.15</td>\n",
       "      <td>25.0</td>\n",
       "      <td>100</td>\n",
       "      <td>10.0</td>\n",
       "      <td>52</td>\n",
       "      <td>20.0</td>\n",
       "      <td>6.40</td>\n",
       "      <td>6.0</td>\n",
       "      <td>25</td>\n",
       "      <td>1</td>\n",
       "    </tr>\n",
       "    <tr>\n",
       "      <th>3</th>\n",
       "      <td>2.0</td>\n",
       "      <td>0.30</td>\n",
       "      <td>1.10</td>\n",
       "      <td>25.0</td>\n",
       "      <td>100</td>\n",
       "      <td>10.0</td>\n",
       "      <td>50</td>\n",
       "      <td>22.0</td>\n",
       "      <td>6.35</td>\n",
       "      <td>6.0</td>\n",
       "      <td>25</td>\n",
       "      <td>1</td>\n",
       "    </tr>\n",
       "    <tr>\n",
       "      <th>4</th>\n",
       "      <td>2.0</td>\n",
       "      <td>0.30</td>\n",
       "      <td>1.10</td>\n",
       "      <td>25.0</td>\n",
       "      <td>108</td>\n",
       "      <td>11.0</td>\n",
       "      <td>50</td>\n",
       "      <td>21.0</td>\n",
       "      <td>6.40</td>\n",
       "      <td>6.0</td>\n",
       "      <td>25</td>\n",
       "      <td>1</td>\n",
       "    </tr>\n",
       "    <tr>\n",
       "      <th>5</th>\n",
       "      <td>2.0</td>\n",
       "      <td>0.30</td>\n",
       "      <td>1.10</td>\n",
       "      <td>25.0</td>\n",
       "      <td>100</td>\n",
       "      <td>10.0</td>\n",
       "      <td>58</td>\n",
       "      <td>20.0</td>\n",
       "      <td>6.40</td>\n",
       "      <td>6.0</td>\n",
       "      <td>25</td>\n",
       "      <td>1</td>\n",
       "    </tr>\n",
       "    <tr>\n",
       "      <th>6</th>\n",
       "      <td>2.0</td>\n",
       "      <td>0.30</td>\n",
       "      <td>1.10</td>\n",
       "      <td>25.0</td>\n",
       "      <td>111</td>\n",
       "      <td>10.0</td>\n",
       "      <td>55</td>\n",
       "      <td>20.0</td>\n",
       "      <td>6.40</td>\n",
       "      <td>6.0</td>\n",
       "      <td>25</td>\n",
       "      <td>1</td>\n",
       "    </tr>\n",
       "    <tr>\n",
       "      <th>7</th>\n",
       "      <td>2.0</td>\n",
       "      <td>0.30</td>\n",
       "      <td>1.10</td>\n",
       "      <td>28.0</td>\n",
       "      <td>100</td>\n",
       "      <td>10.0</td>\n",
       "      <td>50</td>\n",
       "      <td>20.0</td>\n",
       "      <td>6.44</td>\n",
       "      <td>6.0</td>\n",
       "      <td>25</td>\n",
       "      <td>1</td>\n",
       "    </tr>\n",
       "    <tr>\n",
       "      <th>8</th>\n",
       "      <td>2.0</td>\n",
       "      <td>0.30</td>\n",
       "      <td>1.20</td>\n",
       "      <td>25.0</td>\n",
       "      <td>100</td>\n",
       "      <td>10.0</td>\n",
       "      <td>50</td>\n",
       "      <td>26.0</td>\n",
       "      <td>6.40</td>\n",
       "      <td>6.0</td>\n",
       "      <td>25</td>\n",
       "      <td>1</td>\n",
       "    </tr>\n",
       "    <tr>\n",
       "      <th>9</th>\n",
       "      <td>2.0</td>\n",
       "      <td>0.30</td>\n",
       "      <td>1.10</td>\n",
       "      <td>25.0</td>\n",
       "      <td>100</td>\n",
       "      <td>10.0</td>\n",
       "      <td>50</td>\n",
       "      <td>20.0</td>\n",
       "      <td>6.40</td>\n",
       "      <td>6.0</td>\n",
       "      <td>25</td>\n",
       "      <td>1</td>\n",
       "    </tr>\n",
       "    <tr>\n",
       "      <th>10</th>\n",
       "      <td>2.0</td>\n",
       "      <td>0.30</td>\n",
       "      <td>1.10</td>\n",
       "      <td>25.0</td>\n",
       "      <td>105</td>\n",
       "      <td>10.0</td>\n",
       "      <td>65</td>\n",
       "      <td>20.0</td>\n",
       "      <td>6.40</td>\n",
       "      <td>6.5</td>\n",
       "      <td>25</td>\n",
       "      <td>1</td>\n",
       "    </tr>\n",
       "    <tr>\n",
       "      <th>11</th>\n",
       "      <td>2.0</td>\n",
       "      <td>0.30</td>\n",
       "      <td>1.10</td>\n",
       "      <td>27.0</td>\n",
       "      <td>100</td>\n",
       "      <td>10.0</td>\n",
       "      <td>60</td>\n",
       "      <td>20.0</td>\n",
       "      <td>6.50</td>\n",
       "      <td>6.0</td>\n",
       "      <td>25</td>\n",
       "      <td>1</td>\n",
       "    </tr>\n",
       "    <tr>\n",
       "      <th>12</th>\n",
       "      <td>2.0</td>\n",
       "      <td>0.30</td>\n",
       "      <td>1.15</td>\n",
       "      <td>25.0</td>\n",
       "      <td>100</td>\n",
       "      <td>10.0</td>\n",
       "      <td>50</td>\n",
       "      <td>26.0</td>\n",
       "      <td>6.40</td>\n",
       "      <td>6.0</td>\n",
       "      <td>25</td>\n",
       "      <td>1</td>\n",
       "    </tr>\n",
       "    <tr>\n",
       "      <th>13</th>\n",
       "      <td>3.0</td>\n",
       "      <td>0.35</td>\n",
       "      <td>1.30</td>\n",
       "      <td>35.0</td>\n",
       "      <td>122</td>\n",
       "      <td>8.0</td>\n",
       "      <td>100</td>\n",
       "      <td>30.0</td>\n",
       "      <td>5.80</td>\n",
       "      <td>3.0</td>\n",
       "      <td>35</td>\n",
       "      <td>2</td>\n",
       "    </tr>\n",
       "    <tr>\n",
       "      <th>14</th>\n",
       "      <td>3.0</td>\n",
       "      <td>0.35</td>\n",
       "      <td>1.30</td>\n",
       "      <td>35.0</td>\n",
       "      <td>120</td>\n",
       "      <td>8.0</td>\n",
       "      <td>105</td>\n",
       "      <td>32.0</td>\n",
       "      <td>5.80</td>\n",
       "      <td>3.0</td>\n",
       "      <td>36</td>\n",
       "      <td>2</td>\n",
       "    </tr>\n",
       "    <tr>\n",
       "      <th>15</th>\n",
       "      <td>3.0</td>\n",
       "      <td>0.35</td>\n",
       "      <td>1.30</td>\n",
       "      <td>35.0</td>\n",
       "      <td>120</td>\n",
       "      <td>8.0</td>\n",
       "      <td>105</td>\n",
       "      <td>32.0</td>\n",
       "      <td>5.80</td>\n",
       "      <td>3.0</td>\n",
       "      <td>35</td>\n",
       "      <td>2</td>\n",
       "    </tr>\n",
       "  </tbody>\n",
       "</table>\n",
       "</div>"
      ],
      "text/plain": [
       "      N     P     K    Zn   Fe    Cu   Mn    Bo    pH   Ec  Oc  Crop\n",
       "1   2.0  0.32  1.10  25.0  100  10.0   50  20.0  6.40  6.2  25     1\n",
       "2   2.0  0.30  1.15  25.0  100  10.0   52  20.0  6.40  6.0  25     1\n",
       "3   2.0  0.30  1.10  25.0  100  10.0   50  22.0  6.35  6.0  25     1\n",
       "4   2.0  0.30  1.10  25.0  108  11.0   50  21.0  6.40  6.0  25     1\n",
       "5   2.0  0.30  1.10  25.0  100  10.0   58  20.0  6.40  6.0  25     1\n",
       "6   2.0  0.30  1.10  25.0  111  10.0   55  20.0  6.40  6.0  25     1\n",
       "7   2.0  0.30  1.10  28.0  100  10.0   50  20.0  6.44  6.0  25     1\n",
       "8   2.0  0.30  1.20  25.0  100  10.0   50  26.0  6.40  6.0  25     1\n",
       "9   2.0  0.30  1.10  25.0  100  10.0   50  20.0  6.40  6.0  25     1\n",
       "10  2.0  0.30  1.10  25.0  105  10.0   65  20.0  6.40  6.5  25     1\n",
       "11  2.0  0.30  1.10  27.0  100  10.0   60  20.0  6.50  6.0  25     1\n",
       "12  2.0  0.30  1.15  25.0  100  10.0   50  26.0  6.40  6.0  25     1\n",
       "13  3.0  0.35  1.30  35.0  122   8.0  100  30.0  5.80  3.0  35     2\n",
       "14  3.0  0.35  1.30  35.0  120   8.0  105  32.0  5.80  3.0  36     2\n",
       "15  3.0  0.35  1.30  35.0  120   8.0  105  32.0  5.80  3.0  35     2"
      ]
     },
     "execution_count": 16,
     "metadata": {},
     "output_type": "execute_result"
    }
   ],
   "source": [
    "dataset.head(15)"
   ]
  },
  {
   "cell_type": "code",
   "execution_count": 17,
   "metadata": {
    "ExecuteTime": {
     "end_time": "2020-01-29T14:57:25.240838Z",
     "start_time": "2020-01-29T14:57:25.235851Z"
    }
   },
   "outputs": [],
   "source": [
    "## Seperating the attributes and class label\n",
    "\n",
    "\n",
    "X=dataset.drop([\"Crop\"],axis=1)\n",
    "y=dataset[\"Crop\"]\n"
   ]
  },
  {
   "cell_type": "code",
   "execution_count": 18,
   "metadata": {
    "ExecuteTime": {
     "end_time": "2020-01-29T14:57:25.930040Z",
     "start_time": "2020-01-29T14:57:25.924036Z"
    }
   },
   "outputs": [
    {
     "data": {
      "text/plain": [
       "N       float64\n",
       "P       float64\n",
       "K       float64\n",
       "Zn      float64\n",
       "Fe        int64\n",
       "Cu      float64\n",
       "Mn        int64\n",
       "Bo      float64\n",
       "pH      float64\n",
       "Ec      float64\n",
       "Oc        int64\n",
       "Crop      int64\n",
       "dtype: object"
      ]
     },
     "execution_count": 18,
     "metadata": {},
     "output_type": "execute_result"
    }
   ],
   "source": [
    "dataset.dtypes"
   ]
  },
  {
   "cell_type": "code",
   "execution_count": 19,
   "metadata": {
    "ExecuteTime": {
     "end_time": "2020-01-29T14:57:26.589292Z",
     "start_time": "2020-01-29T14:57:26.582275Z"
    }
   },
   "outputs": [
    {
     "data": {
      "text/plain": [
       "5     19\n",
       "4     17\n",
       "6     13\n",
       "3     13\n",
       "11    12\n",
       "10    12\n",
       "7     12\n",
       "2     12\n",
       "1     12\n",
       "9     11\n",
       "8     11\n",
       "Name: Crop, dtype: int64"
      ]
     },
     "execution_count": 19,
     "metadata": {},
     "output_type": "execute_result"
    }
   ],
   "source": [
    "y.value_counts()"
   ]
  },
  {
   "cell_type": "code",
   "execution_count": 20,
   "metadata": {
    "ExecuteTime": {
     "end_time": "2020-01-29T14:57:27.238521Z",
     "start_time": "2020-01-29T14:57:27.231538Z"
    }
   },
   "outputs": [
    {
     "name": "stdout",
     "output_type": "stream",
     "text": [
      "(115, 11)\n",
      "(115,)\n",
      "(29, 11)\n",
      "(29,)\n"
     ]
    }
   ],
   "source": [
    "## Train Test Split\n",
    "\n",
    "from sklearn.model_selection import train_test_split\n",
    "\n",
    "X_train,X_test,y_train,y_test=train_test_split(X,y,test_size=0.2,random_state=42,shuffle=\"False\") \n",
    "print(X_train.shape)\n",
    "print(y_train.shape)\n",
    "print(X_test.shape)\n",
    "print(y_test.shape)"
   ]
  },
  {
   "cell_type": "code",
   "execution_count": 21,
   "metadata": {
    "ExecuteTime": {
     "end_time": "2020-01-29T17:24:53.723930Z",
     "start_time": "2020-01-29T17:24:53.699108Z"
    }
   },
   "outputs": [
    {
     "name": "stdout",
     "output_type": "stream",
     "text": [
      "1.0\n",
      "[8]\n"
     ]
    }
   ],
   "source": [
    "### Random Forests classifier\n",
    "\n",
    "\n",
    "\n",
    "from sklearn.ensemble import RandomForestClassifier \n",
    "\n",
    "classifier = RandomForestClassifier(n_estimators = 10, criterion = 'entropy', random_state = 42)\n",
    "classifier.fit(X_train,y_train)\n",
    "pred = classifier.predict(X_test)\n",
    "\n",
    "from sklearn.metrics import accuracy_score\n",
    "\n",
    "a=accuracy_score(y_test, pred)\n",
    "print(a)\n",
    "\n",
    "x = [[2.9,0.35,2.8,47,250,15.1,301,55.5,7,6.55,54]]\n",
    "y=classifier.predict(x)\n",
    "print(y)"
   ]
  },
  {
   "cell_type": "code",
   "execution_count": 22,
   "metadata": {
    "ExecuteTime": {
     "end_time": "2020-01-29T19:12:32.283777Z",
     "start_time": "2020-01-29T19:12:32.275539Z"
    }
   },
   "outputs": [
    {
     "name": "stdout",
     "output_type": "stream",
     "text": [
      "1.0\n"
     ]
    }
   ],
   "source": [
    "### Calculating accuracy\n",
    "\n",
    "\n",
    "from sklearn.metrics import accuracy_score\n",
    "\n",
    "a=accuracy_score(y_test, pred)\n",
    "print(a)\n"
   ]
  },
  {
   "cell_type": "code",
   "execution_count": 23,
   "metadata": {
    "ExecuteTime": {
     "end_time": "2020-01-29T14:57:31.497411Z",
     "start_time": "2020-01-29T14:57:30.584847Z"
    }
   },
   "outputs": [
    {
     "name": "stdout",
     "output_type": "stream",
     "text": [
      "Train confusion matrix\n",
      "Test confusion matrix\n"
     ]
    },
    {
     "data": {
      "text/plain": [
       "<AxesSubplot:title={'center':'Confusion Matrix'}, xlabel='Predicted label', ylabel='True label'>"
      ]
     },
     "execution_count": 23,
     "metadata": {},
     "output_type": "execute_result"
    },
    {
     "data": {
      "image/png": "[encoded data removed]",
      "text/plain": [
       "<Figure size 432x288 with 2 Axes>"
      ]
     },
     "metadata": {
      "needs_background": "light"
     },
     "output_type": "display_data"
    },
    {
     "data": {
      "image/png": "[encoded data removed]",
      "text/plain": [
       "<Figure size 432x288 with 2 Axes>"
      ]
     },
     "metadata": {
      "needs_background": "light"
     },
     "output_type": "display_data"
    }
   ],
   "source": [
    "import scikitplot as splot\n",
    "print(\"Train confusion matrix\")\n",
    "splot.metrics.plot_confusion_matrix(y_train, classifier.predict(X_train))\n",
    "\n",
    "print(\"Test confusion matrix\")\n",
    "splot.metrics.plot_confusion_matrix(y_test, classifier.predict(X_test))"
   ]
  },
  {
   "cell_type": "code",
   "execution_count": 24,
   "metadata": {
    "ExecuteTime": {
     "end_time": "2020-01-29T19:24:37.610675Z",
     "start_time": "2020-01-29T19:24:37.602454Z"
    }
   },
   "outputs": [
    {
     "name": "stdout",
     "output_type": "stream",
     "text": [
      "[8]\n"
     ]
    }
   ],
   "source": [
    "## Predicting classes for discrete instances\n",
    "x = [[2.9,0.35,2.8,47,250,15.1,301,55.5,7,6.55,54]]\n",
    "y=classifier.predict(x)\n",
    "print(y)"
   ]
  },
  {
   "cell_type": "code",
   "execution_count": 25,
   "metadata": {
    "ExecuteTime": {
     "end_time": "2020-01-29T19:27:08.943968Z",
     "start_time": "2020-01-29T19:27:08.931964Z"
    }
   },
   "outputs": [
    {
     "name": "stdout",
     "output_type": "stream",
     "text": [
      "[9]\n"
     ]
    }
   ],
   "source": [
    "## Predicting classes for discrete instances\n",
    "x = [[2,0.35,1,47,250,15.1,55,125,6.5,6.5,25]]\n",
    "y=classifier.predict(x)\n",
    "print(y)"
   ]
  },
  {
   "cell_type": "code",
   "execution_count": 26,
   "metadata": {
    "ExecuteTime": {
     "end_time": "2020-01-29T19:33:23.260524Z",
     "start_time": "2020-01-29T19:33:23.254923Z"
    }
   },
   "outputs": [
    {
     "name": "stdout",
     "output_type": "stream",
     "text": [
      "[7]\n"
     ]
    }
   ],
   "source": [
    "## Predicting classes for discrete instances\n",
    "x = [[4,0.35,1.5,47,245,15.1,55,125,6.5,5,36]]\n",
    "y=classifier.predict(x)\n",
    "print(y)"
   ]
  },
  {
   "cell_type": "code",
   "execution_count": 27,
   "metadata": {
    "ExecuteTime": {
     "end_time": "2020-01-29T19:37:06.156305Z",
     "start_time": "2020-01-29T19:37:06.144701Z"
    }
   },
   "outputs": [
    {
     "name": "stdout",
     "output_type": "stream",
     "text": [
      "[7]\n"
     ]
    }
   ],
   "source": [
    "## Predicting classes for discrete instances\n",
    "x = [[5,0.35,1.5,47,245,15.1,55,125,6.5,5,50]]\n",
    "y=classifier.predict(x)\n",
    "print(y)"
   ]
  },
  {
   "cell_type": "code",
   "execution_count": 28,
   "metadata": {},
   "outputs": [],
   "source": [
    "pickle.dump(classifier, open('crop.pkl','wb'))\n"
   ]
  },
  {
   "cell_type": "code",
   "execution_count": 29,
   "metadata": {
    "ExecuteTime": {
     "end_time": "2020-01-29T19:39:09.242262Z",
     "start_time": "2020-01-29T19:39:09.230085Z"
    }
   },
   "outputs": [
    {
     "name": "stdout",
     "output_type": "stream",
     "text": [
      "0.3448275862068966\n"
     ]
    }
   ],
   "source": [
    "\n",
    "\n",
    "### Decision Trees doesnt provide good results\n",
    "\n",
    "from sklearn.tree import DecisionTreeClassifier \n",
    "from sklearn.metrics import confusion_matrix \n",
    "dtree_model = DecisionTreeClassifier(max_depth = 2).fit(X_train, y_train) \n",
    "dtree_predictions = dtree_model.predict(X_test) \n",
    "from sklearn.metrics import accuracy_score\n",
    "\n",
    "a=accuracy_score(y_test, dtree_predictions)\n",
    "print(a)\n",
    "  \n",
    "# creating a confusion matrix \n",
    "cm = confusion_matrix(y_test, dtree_predictions) "
   ]
  },
  {
   "cell_type": "code",
   "execution_count": null,
   "metadata": {},
   "outputs": [],
   "source": []
  },
  {
   "cell_type": "code",
   "execution_count": null,
   "metadata": {},
   "outputs": [],
   "source": []
  },
  {
   "cell_type": "code",
   "execution_count": null,
   "metadata": {},
   "outputs": [],
   "source": []
  },
  {
   "cell_type": "code",
   "execution_count": null,
   "metadata": {},
   "outputs": [],
   "source": []
  },
  {
   "cell_type": "code",
   "execution_count": null,
   "metadata": {},
   "outputs": [],
   "source": []
  },
  {
   "cell_type": "code",
   "execution_count": null,
   "metadata": {},
   "outputs": [],
   "source": []
  }
 ],
 "metadata": {
  "kernelspec": {
   "display_name": "Python 3",
   "language": "python",
   "name": "python3"
  },
  "language_info": {
   "codemirror_mode": {
    "name": "ipython",
    "version": 3
   },
   "file_extension": ".py",
   "mimetype": "text/x-python",
   "name": "python",
   "nbconvert_exporter": "python",
   "pygments_lexer": "ipython3",
   "version": "3.7.3"
  },
  "toc": {
   "base_numbering": 1,
   "nav_menu": {},
   "number_sections": true,
   "sideBar": true,
   "skip_h1_title": false,
   "title_cell": "Table of Contents",
   "title_sidebar": "Contents",
   "toc_cell": false,
   "toc_position": {},
   "toc_section_display": true,
   "toc_window_display": false
  },
  "varInspector": {
   "cols": {
    "lenName": 16,
    "lenType": 16,
    "lenVar": 40
   },
   "kernels_config": {
    "python": {
     "delete_cmd_postfix": "",
     "delete_cmd_prefix": "del ",
     "library": "var_list.py",
     "varRefreshCmd": "print(var_dic_list())"
    },
    "r": {
     "delete_cmd_postfix": ") ",
     "delete_cmd_prefix": "rm(",
     "library": "var_list.r",
     "varRefreshCmd": "cat(var_dic_list()) "
    }
   },
   "types_to_exclude": [
    "module",
    "function",
    "builtin_function_or_method",
    "instance",
    "_Feature"
   ],
   "window_display": false
  }
 },
 "nbformat": 4,
 "nbformat_minor": 4
}
